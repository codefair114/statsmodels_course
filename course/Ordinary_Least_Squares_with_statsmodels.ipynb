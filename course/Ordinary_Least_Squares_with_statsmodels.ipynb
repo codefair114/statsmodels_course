{
 "cells": [
  {
   "cell_type": "code",
   "execution_count": 19,
   "id": "17128fb6",
   "metadata": {},
   "outputs": [],
   "source": [
    "import pandas as pd\n",
    "import numpy as np\n",
    "import matplotlib.pyplot as plt\n",
    "\n",
    "import statsmodels.api as sm\n",
    "from statsmodels.sandbox.regression.predstd import wls_prediction_std\n",
    "\n",
    "np.random.seed(42)"
   ]
  },
  {
   "cell_type": "code",
   "execution_count": 4,
   "id": "9f32462c",
   "metadata": {},
   "outputs": [],
   "source": [
    "# Fake Data\n",
    "nsample = 100\n",
    "x = np.linspace(0, 10, nsample)\n",
    "X = np.column_stack((x, x**2))\n",
    "beta = np.array([1, 0.1, 10])\n",
    "e = np.random.normal(size=nsample)"
   ]
  },
  {
   "cell_type": "code",
   "execution_count": 5,
   "id": "249c8c10",
   "metadata": {},
   "outputs": [],
   "source": [
    "X = sm.add_constant(X)\n",
    "y = np.dot(X, beta) + e"
   ]
  },
  {
   "cell_type": "code",
   "execution_count": 6,
   "id": "feb0de8b",
   "metadata": {},
   "outputs": [
    {
     "data": {
      "text/html": [
       "<table class=\"simpletable\">\n",
       "<caption>OLS Regression Results</caption>\n",
       "<tr>\n",
       "  <th>Dep. Variable:</th>            <td>y</td>        <th>  R-squared:         </th> <td>   1.000</td> \n",
       "</tr>\n",
       "<tr>\n",
       "  <th>Model:</th>                   <td>OLS</td>       <th>  Adj. R-squared:    </th> <td>   1.000</td> \n",
       "</tr>\n",
       "<tr>\n",
       "  <th>Method:</th>             <td>Least Squares</td>  <th>  F-statistic:       </th> <td>4.944e+06</td>\n",
       "</tr>\n",
       "<tr>\n",
       "  <th>Date:</th>             <td>Fri, 20 May 2022</td> <th>  Prob (F-statistic):</th> <td>1.24e-243</td>\n",
       "</tr>\n",
       "<tr>\n",
       "  <th>Time:</th>                 <td>14:40:43</td>     <th>  Log-Likelihood:    </th> <td> -136.19</td> \n",
       "</tr>\n",
       "<tr>\n",
       "  <th>No. Observations:</th>      <td>   100</td>      <th>  AIC:               </th> <td>   278.4</td> \n",
       "</tr>\n",
       "<tr>\n",
       "  <th>Df Residuals:</th>          <td>    97</td>      <th>  BIC:               </th> <td>   286.2</td> \n",
       "</tr>\n",
       "<tr>\n",
       "  <th>Df Model:</th>              <td>     2</td>      <th>                     </th>     <td> </td>    \n",
       "</tr>\n",
       "<tr>\n",
       "  <th>Covariance Type:</th>      <td>nonrobust</td>    <th>                     </th>     <td> </td>    \n",
       "</tr>\n",
       "</table>\n",
       "<table class=\"simpletable\">\n",
       "<tr>\n",
       "    <td></td>       <th>coef</th>     <th>std err</th>      <th>t</th>      <th>P>|t|</th>  <th>[0.025</th>    <th>0.975]</th>  \n",
       "</tr>\n",
       "<tr>\n",
       "  <th>const</th> <td>    0.8170</td> <td>    0.282</td> <td>    2.896</td> <td> 0.005</td> <td>    0.257</td> <td>    1.377</td>\n",
       "</tr>\n",
       "<tr>\n",
       "  <th>x1</th>    <td>    0.2204</td> <td>    0.130</td> <td>    1.690</td> <td> 0.094</td> <td>   -0.038</td> <td>    0.479</td>\n",
       "</tr>\n",
       "<tr>\n",
       "  <th>x2</th>    <td>    9.9882</td> <td>    0.013</td> <td>  791.791</td> <td> 0.000</td> <td>    9.963</td> <td>   10.013</td>\n",
       "</tr>\n",
       "</table>\n",
       "<table class=\"simpletable\">\n",
       "<tr>\n",
       "  <th>Omnibus:</th>       <td> 2.646</td> <th>  Durbin-Watson:     </th> <td>   2.167</td>\n",
       "</tr>\n",
       "<tr>\n",
       "  <th>Prob(Omnibus):</th> <td> 0.266</td> <th>  Jarque-Bera (JB):  </th> <td>   2.329</td>\n",
       "</tr>\n",
       "<tr>\n",
       "  <th>Skew:</th>          <td> 0.374</td> <th>  Prob(JB):          </th> <td>   0.312</td>\n",
       "</tr>\n",
       "<tr>\n",
       "  <th>Kurtosis:</th>      <td> 3.029</td> <th>  Cond. No.          </th> <td>    144.</td>\n",
       "</tr>\n",
       "</table><br/><br/>Notes:<br/>[1] Standard Errors assume that the covariance matrix of the errors is correctly specified."
      ],
      "text/plain": [
       "<class 'statsmodels.iolib.summary.Summary'>\n",
       "\"\"\"\n",
       "                            OLS Regression Results                            \n",
       "==============================================================================\n",
       "Dep. Variable:                      y   R-squared:                       1.000\n",
       "Model:                            OLS   Adj. R-squared:                  1.000\n",
       "Method:                 Least Squares   F-statistic:                 4.944e+06\n",
       "Date:                Fri, 20 May 2022   Prob (F-statistic):          1.24e-243\n",
       "Time:                        14:40:43   Log-Likelihood:                -136.19\n",
       "No. Observations:                 100   AIC:                             278.4\n",
       "Df Residuals:                      97   BIC:                             286.2\n",
       "Df Model:                           2                                         \n",
       "Covariance Type:            nonrobust                                         \n",
       "==============================================================================\n",
       "                 coef    std err          t      P>|t|      [0.025      0.975]\n",
       "------------------------------------------------------------------------------\n",
       "const          0.8170      0.282      2.896      0.005       0.257       1.377\n",
       "x1             0.2204      0.130      1.690      0.094      -0.038       0.479\n",
       "x2             9.9882      0.013    791.791      0.000       9.963      10.013\n",
       "==============================================================================\n",
       "Omnibus:                        2.646   Durbin-Watson:                   2.167\n",
       "Prob(Omnibus):                  0.266   Jarque-Bera (JB):                2.329\n",
       "Skew:                           0.374   Prob(JB):                        0.312\n",
       "Kurtosis:                       3.029   Cond. No.                         144.\n",
       "==============================================================================\n",
       "\n",
       "Notes:\n",
       "[1] Standard Errors assume that the covariance matrix of the errors is correctly specified.\n",
       "\"\"\""
      ]
     },
     "execution_count": 6,
     "metadata": {},
     "output_type": "execute_result"
    }
   ],
   "source": [
    "# Model fit and SUmmary\n",
    "res = sm.OLS(y, X).fit()\n",
    "res.summary()"
   ]
  },
  {
   "cell_type": "code",
   "execution_count": 7,
   "id": "4d5b5d96",
   "metadata": {},
   "outputs": [
    {
     "name": "stdout",
     "output_type": "stream",
     "text": [
      "R2:  0.9999901904321868\n"
     ]
    }
   ],
   "source": [
    "print(\"R2: \", res.rsquared)"
   ]
  },
  {
   "cell_type": "markdown",
   "id": "4dd9c739",
   "metadata": {},
   "source": [
    "## OLS non-linear curve but linear parameters"
   ]
  },
  {
   "cell_type": "code",
   "execution_count": 15,
   "id": "443a40f3",
   "metadata": {},
   "outputs": [],
   "source": [
    "# Fake Data again\n",
    "nsample = 100\n",
    "sig = 0.5\n",
    "x = np.linspace(0, 20, nsample)\n",
    "X = np.column_stack((x, np.sin(x), (x-5)**2, np.ones(nsample)))\n",
    "beta = np.array([0.5, 0.5, -0.02, 5.])\n",
    "y_true = np.dot(X, beta)\n",
    "y = y_true + sig * np.random.normal(size=nsample) # Adds noise    "
   ]
  },
  {
   "cell_type": "code",
   "execution_count": 16,
   "id": "ba061c26",
   "metadata": {},
   "outputs": [
    {
     "data": {
      "text/html": [
       "<table class=\"simpletable\">\n",
       "<caption>OLS Regression Results</caption>\n",
       "<tr>\n",
       "  <th>Dep. Variable:</th>            <td>y</td>        <th>  R-squared:         </th> <td>   0.917</td>\n",
       "</tr>\n",
       "<tr>\n",
       "  <th>Model:</th>                   <td>OLS</td>       <th>  Adj. R-squared:    </th> <td>   0.914</td>\n",
       "</tr>\n",
       "<tr>\n",
       "  <th>Method:</th>             <td>Least Squares</td>  <th>  F-statistic:       </th> <td>   351.7</td>\n",
       "</tr>\n",
       "<tr>\n",
       "  <th>Date:</th>             <td>Fri, 20 May 2022</td> <th>  Prob (F-statistic):</th> <td>1.25e-51</td>\n",
       "</tr>\n",
       "<tr>\n",
       "  <th>Time:</th>                 <td>14:48:54</td>     <th>  Log-Likelihood:    </th> <td> -78.176</td>\n",
       "</tr>\n",
       "<tr>\n",
       "  <th>No. Observations:</th>      <td>   100</td>      <th>  AIC:               </th> <td>   164.4</td>\n",
       "</tr>\n",
       "<tr>\n",
       "  <th>Df Residuals:</th>          <td>    96</td>      <th>  BIC:               </th> <td>   174.8</td>\n",
       "</tr>\n",
       "<tr>\n",
       "  <th>Df Model:</th>              <td>     3</td>      <th>                     </th>     <td> </td>   \n",
       "</tr>\n",
       "<tr>\n",
       "  <th>Covariance Type:</th>      <td>nonrobust</td>    <th>                     </th>     <td> </td>   \n",
       "</tr>\n",
       "</table>\n",
       "<table class=\"simpletable\">\n",
       "<tr>\n",
       "    <td></td>       <th>coef</th>     <th>std err</th>      <th>t</th>      <th>P>|t|</th>  <th>[0.025</th>    <th>0.975]</th>  \n",
       "</tr>\n",
       "<tr>\n",
       "  <th>x1</th>    <td>    0.4635</td> <td>    0.020</td> <td>   22.703</td> <td> 0.000</td> <td>    0.423</td> <td>    0.504</td>\n",
       "</tr>\n",
       "<tr>\n",
       "  <th>x2</th>    <td>    0.5370</td> <td>    0.079</td> <td>    6.807</td> <td> 0.000</td> <td>    0.380</td> <td>    0.694</td>\n",
       "</tr>\n",
       "<tr>\n",
       "  <th>x3</th>    <td>   -0.0171</td> <td>    0.002</td> <td>   -9.538</td> <td> 0.000</td> <td>   -0.021</td> <td>   -0.014</td>\n",
       "</tr>\n",
       "<tr>\n",
       "  <th>const</th> <td>    5.2259</td> <td>    0.132</td> <td>   39.480</td> <td> 0.000</td> <td>    4.963</td> <td>    5.489</td>\n",
       "</tr>\n",
       "</table>\n",
       "<table class=\"simpletable\">\n",
       "<tr>\n",
       "  <th>Omnibus:</th>       <td> 3.515</td> <th>  Durbin-Watson:     </th> <td>   2.327</td>\n",
       "</tr>\n",
       "<tr>\n",
       "  <th>Prob(Omnibus):</th> <td> 0.172</td> <th>  Jarque-Bera (JB):  </th> <td>   3.207</td>\n",
       "</tr>\n",
       "<tr>\n",
       "  <th>Skew:</th>          <td> 0.228</td> <th>  Prob(JB):          </th> <td>   0.201</td>\n",
       "</tr>\n",
       "<tr>\n",
       "  <th>Kurtosis:</th>      <td> 3.749</td> <th>  Cond. No.          </th> <td>    223.</td>\n",
       "</tr>\n",
       "</table><br/><br/>Notes:<br/>[1] Standard Errors assume that the covariance matrix of the errors is correctly specified."
      ],
      "text/plain": [
       "<class 'statsmodels.iolib.summary.Summary'>\n",
       "\"\"\"\n",
       "                            OLS Regression Results                            \n",
       "==============================================================================\n",
       "Dep. Variable:                      y   R-squared:                       0.917\n",
       "Model:                            OLS   Adj. R-squared:                  0.914\n",
       "Method:                 Least Squares   F-statistic:                     351.7\n",
       "Date:                Fri, 20 May 2022   Prob (F-statistic):           1.25e-51\n",
       "Time:                        14:48:54   Log-Likelihood:                -78.176\n",
       "No. Observations:                 100   AIC:                             164.4\n",
       "Df Residuals:                      96   BIC:                             174.8\n",
       "Df Model:                           3                                         \n",
       "Covariance Type:            nonrobust                                         \n",
       "==============================================================================\n",
       "                 coef    std err          t      P>|t|      [0.025      0.975]\n",
       "------------------------------------------------------------------------------\n",
       "x1             0.4635      0.020     22.703      0.000       0.423       0.504\n",
       "x2             0.5370      0.079      6.807      0.000       0.380       0.694\n",
       "x3            -0.0171      0.002     -9.538      0.000      -0.021      -0.014\n",
       "const          5.2259      0.132     39.480      0.000       4.963       5.489\n",
       "==============================================================================\n",
       "Omnibus:                        3.515   Durbin-Watson:                   2.327\n",
       "Prob(Omnibus):                  0.172   Jarque-Bera (JB):                3.207\n",
       "Skew:                           0.228   Prob(JB):                        0.201\n",
       "Kurtosis:                       3.749   Cond. No.                         223.\n",
       "==============================================================================\n",
       "\n",
       "Notes:\n",
       "[1] Standard Errors assume that the covariance matrix of the errors is correctly specified.\n",
       "\"\"\""
      ]
     },
     "execution_count": 16,
     "metadata": {},
     "output_type": "execute_result"
    }
   ],
   "source": [
    "res_2 = sm.OLS(y, X).fit()\n",
    "res_2.summary()"
   ]
  },
  {
   "cell_type": "code",
   "execution_count": 18,
   "id": "50ef454f",
   "metadata": {},
   "outputs": [
    {
     "name": "stdout",
     "output_type": "stream",
     "text": [
      "Parameters:  [ 0.46348143  0.53703708 -0.01711047  5.2258814 ]\n",
      "Std Errors: [0.02041466 0.07889057 0.00179388 0.1323686 ]\n",
      "Predicted Values:  [ 4.79811971  5.03337648  5.26285381  5.48234715  5.68800122  5.87646685\n",
      "  6.04503715  6.19175766  6.31550581  6.4160366   6.49399255  6.55087758\n",
      "  6.58899583  6.61135794  6.6215586   6.62363036  6.62187958  6.62071131\n",
      "  6.62445006  6.637164    6.66249941  6.7035324   6.76264382  6.84142238\n",
      "  6.94060007  7.06002235  7.19865447  7.35462354  7.52529469  7.70737829\n",
      "  7.89706369  8.09017426  8.28233724  8.46916162  8.64641671  8.81020423\n",
      "  8.95711687  9.08437689  9.18994908  9.27262352  9.33206485  9.36882585\n",
      "  9.38432502  9.38078881  9.36116111  9.32898352  9.28825127  9.24325073\n",
      "  9.19838507  9.15799517  9.12618307  9.1066451   9.10252156  9.11626898\n",
      "  9.1495602   9.20321637  9.27717347  9.37048502  9.48136047  9.60723811\n",
      "  9.74488921  9.89054939 10.04007169 10.18909525 10.33322271 10.46819904\n",
      " 10.59008459 10.6954154  10.78134399 10.84575527 10.88735252 10.90571013\n",
      " 10.90129093 10.87542737 10.83026729 10.7686866  10.69417227 10.61068055\n",
      " 10.522476   10.43395806 10.34948214 10.27318241 10.2088037  10.15954915\n",
      " 10.12794995 10.11576237 10.12389635 10.15237844 10.20035081 10.26610602\n",
      " 10.3471566  10.44033609 10.54192796 10.64781666 10.75365511 10.85504143\n",
      " 10.94769806 11.02764566 11.09136503 11.13594022]\n",
      "R Squared 0.9165925637190336\n"
     ]
    }
   ],
   "source": [
    "print(\"Parameters: \", res_2.params)\n",
    "print(\"Std Errors:\", res_2.bse)\n",
    "print(\"Predicted Values: \", res_2.predict())\n",
    "print(\"R Squared\", res_2.rsquared)"
   ]
  },
  {
   "cell_type": "code",
   "execution_count": 28,
   "id": "5057d064",
   "metadata": {},
   "outputs": [],
   "source": [
    "def plot_compare(res):\n",
    "    pfstd, iv_1, iv_u = wls_prediction_std(res)\n",
    "    fig, ax = plt.subplots(figsize=(10,6))\n",
    "    \n",
    "    ax.plot(x, y, 'o', label = 'data')\n",
    "    ax.plot(x, y_true, 'b-', label='True')\n",
    "    ax.plot(x, res.fittedvalues, 'r--', label='OLS')\n",
    "    ax.plot(x, iv_u, 'g--', label=\"Error\")\n",
    "    ax.plot(x, iv_1, 'g--')\n",
    "    ax.legend(loc=\"best\")"
   ]
  },
  {
   "cell_type": "code",
   "execution_count": 29,
   "id": "f93c0db6",
   "metadata": {
    "scrolled": true
   },
   "outputs": [
    {
     "data": {
      "image/png": "[encoded data removed]",
      "text/plain": [
       "<Figure size 720x432 with 1 Axes>"
      ]
     },
     "metadata": {
      "needs_background": "light"
     },
     "output_type": "display_data"
    }
   ],
   "source": [
    "plot_compare(res_2)"
   ]
  },
  {
   "cell_type": "code",
   "execution_count": null,
   "id": "384cf6a8",
   "metadata": {},
   "outputs": [],
   "source": []
  }
 ],
 "metadata": {
  "kernelspec": {
   "display_name": "Python 3 (ipykernel)",
   "language": "python",
   "name": "python3"
  },
  "language_info": {
   "codemirror_mode": {
    "name": "ipython",
    "version": 3
   },
   "file_extension": ".py",
   "mimetype": "text/x-python",
   "name": "python",
   "nbconvert_exporter": "python",
   "pygments_lexer": "ipython3",
   "version": "3.9.12"
  }
 },
 "nbformat": 4,
 "nbformat_minor": 5
}
